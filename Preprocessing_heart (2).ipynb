{
 "cells": [
  {
   "cell_type": "markdown",
   "id": "a7489cc9",
   "metadata": {},
   "source": [
    "## Import Libraries"
   ]
  },
  {
   "cell_type": "markdown",
   "id": "95a55cab",
   "metadata": {},
   "source": [
    "Importing all the necessary libraries"
   ]
  },
  {
   "cell_type": "code",
   "execution_count": 168,
   "id": "d579b399",
   "metadata": {},
   "outputs": [],
   "source": [
    "# Import necessary libraries\n",
    "import pandas as pd\n",
    "import numpy as np\n",
    "\n",
    "np.random.seed(42)"
   ]
  },
  {
   "cell_type": "markdown",
   "id": "4454ba6f",
   "metadata": {},
   "source": [
    "## Heart Disease Predictive analysis:"
   ]
  },
  {
   "cell_type": "markdown",
   "id": "d796a1bf",
   "metadata": {},
   "source": [
    "The Heart Disease dataset, the goal is to predict whether a person has heart disease based on various medical and demographic features. The target variable, in this case, is usually the 'target' column in the dataset. The 'target' column typically contains binary values, where:\n",
    "\n",
    "0 often represents the absence of heart disease.\n",
    "1 often represents the presence of heart disease.\n",
    "The objective is to build a machine learning model that can accurately predict whether a patient has heart disease or not based on the input features. This prediction can be crucial for early diagnosis and timely medical intervention, potentially saving lives and improving healthcare outcomes.\n",
    "\n",
    "In summary, the goal of the Heart Disease dataset is to create a predictive model to determine the presence or absence of heart disease in patients based on their health-related attributes."
   ]
  },
  {
   "cell_type": "markdown",
   "id": "2e0a1cf6",
   "metadata": {},
   "source": [
    "## Load The Data"
   ]
  },
  {
   "cell_type": "markdown",
   "id": "e92d8bc6",
   "metadata": {},
   "source": [
    "The data set is kept in a file at '/Users/ramyamuthineni/Downloads/heart+disease/processed.cleveland.data'. "
   ]
  },
  {
   "cell_type": "code",
   "execution_count": 142,
   "id": "5db686dd",
   "metadata": {},
   "outputs": [],
   "source": [
    "# Load the Heart Disease dataset from a local path\n",
    "file_path = '/Users/ramyamuthineni/Downloads/heart+disease/processed.cleveland.data'\n",
    "df = pd.read_csv(file_path)"
   ]
  },
  {
   "cell_type": "markdown",
   "id": "111453ab",
   "metadata": {},
   "source": [
    "Loaded the dataset from a file at '/Users/ramyamuthineni/Downloads/heart+disease/processed.cleveland.data'. "
   ]
  },
  {
   "cell_type": "code",
   "execution_count": 143,
   "id": "63cacb5f",
   "metadata": {},
   "outputs": [
    {
     "name": "stdout",
     "output_type": "stream",
     "text": [
      "Index(['63.0', '1.0', '1.0.1', '145.0', '233.0', '1.0.2', '2.0', '150.0',\n",
      "       '0.0', '2.3', '3.0', '0.0.1', '6.0', '0'],\n",
      "      dtype='object')\n"
     ]
    }
   ],
   "source": [
    "column_names = df.columns\n",
    "print(column_names)"
   ]
  },
  {
   "cell_type": "markdown",
   "id": "2e396047",
   "metadata": {},
   "source": [
    "The dataset includes a number of columns that indicate various heart disease-related factors. The names of the columns in the dataset are specified in a numeric format."
   ]
  },
  {
   "cell_type": "markdown",
   "id": "536b888c",
   "metadata": {},
   "source": [
    "Renaming columns in a DataFrame to increase the readability and consistency."
   ]
  },
  {
   "cell_type": "code",
   "execution_count": 144,
   "id": "ac51e2d8",
   "metadata": {},
   "outputs": [],
   "source": [
    "df.columns = ['age', 'sex', 'cp', 'trestbps', 'chol', 'fbs', 'restecg', \n",
    "         'thalach', 'exang', 'oldpeak', 'slope', 'ca', 'thal', 'target']"
   ]
  },
  {
   "cell_type": "markdown",
   "id": "ed306321",
   "metadata": {},
   "source": [
    "The column names and descriptions are provided below:\n",
    "\n",
    "'age': Age of the patient.\n",
    "\n",
    "'sex': Gender of the patient (1 = male, 0 = female).\n",
    "\n",
    "'cp': Chest pain type (Value 1: typical angina, Value 2: atypical angina, Value 3: non-anginal pain, Value 4: asymptomatic).\n",
    "\n",
    "'trestbps': Resting blood pressure of the patient.\n",
    "\n",
    "'chol': Serum cholesterol level of the patient.\n",
    "\n",
    "'fbs': Fasting blood sugar > 120 mg/dl (1 = true, 0 = false).\n",
    "\n",
    "'restecg': Resting electrocardiographic results (0 = normal, 1 = having ST-T wave abnormality, 2 = showing probable or definite left ventricular hypertrophy).\n",
    "\n",
    "'thalach': Maximum heart rate achieved.\n",
    "\n",
    "'exang': Exercise induced angina (1 = yes, 0 = no).\n",
    "\n",
    "'oldpeak': Depression induced by exercise relative to rest.\n",
    "\n",
    "'slope': Slope of the peak exercise ST segment (Value 1: upsloping, Value 2: flat, Value 3: downsloping).\n",
    "\n",
    "'ca': Number of major vessels colored by fluoroscopy (0-3).\n",
    "\n",
    "'thal': Thalassemia (3 = normal; 6 = fixed defect; 7 = reversible defect).\n",
    "\n",
    "'target': Presence or absence of heart disease (1 = presence, 0 = absence)."
   ]
  },
  {
   "cell_type": "markdown",
   "id": "83619acc",
   "metadata": {},
   "source": [
    "## Explore the dataset"
   ]
  },
  {
   "cell_type": "markdown",
   "id": "20399e45",
   "metadata": {},
   "source": [
    "Exploring the data understand it's structure, characteristics and size."
   ]
  },
  {
   "cell_type": "markdown",
   "id": "2612cfdc",
   "metadata": {},
   "source": [
    "The shape attribute of a DataFrame in pandas represents its dimensions, where the first value represents the number of rows and the second value represents the number of columns."
   ]
  },
  {
   "cell_type": "code",
   "execution_count": 154,
   "id": "ceeace2f",
   "metadata": {},
   "outputs": [
    {
     "name": "stdout",
     "output_type": "stream",
     "text": [
      "(302, 14)\n"
     ]
    }
   ],
   "source": [
    "# Explore the dataset\n",
    "# read the first few rows of the dataset \n",
    "print(df.shape)"
   ]
  },
  {
   "cell_type": "markdown",
   "id": "2596343b",
   "metadata": {},
   "source": [
    "The output (302, 14) indicates that the DataFrame df has 302 rows and 14 columns. "
   ]
  },
  {
   "cell_type": "code",
   "execution_count": 155,
   "id": "0b6faf3c",
   "metadata": {},
   "outputs": [
    {
     "name": "stdout",
     "output_type": "stream",
     "text": [
      "    age  sex   cp  trestbps   chol  fbs  restecg  thalach  exang  oldpeak  \\\n",
      "0  67.0  1.0  4.0     160.0  286.0  0.0      2.0    108.0    1.0      1.5   \n",
      "1  67.0  1.0  4.0     120.0  229.0  0.0      2.0    129.0    1.0      2.6   \n",
      "2  37.0  1.0  3.0     130.0  250.0  0.0      0.0    187.0    0.0      3.5   \n",
      "3  41.0  0.0  2.0     130.0  204.0  0.0      2.0    172.0    0.0      1.4   \n",
      "4  56.0  1.0  2.0     120.0  236.0  0.0      0.0    178.0    0.0      0.8   \n",
      "\n",
      "   slope   ca thal  target  \n",
      "0    2.0  3.0  3.0       2  \n",
      "1    2.0  2.0  7.0       1  \n",
      "2    3.0  0.0  3.0       0  \n",
      "3    1.0  0.0  3.0       0  \n",
      "4    1.0  0.0  3.0       0  \n"
     ]
    }
   ],
   "source": [
    "# Explore the dataset\n",
    "# read the first few rows of the dataset \n",
    "print(df.head())"
   ]
  },
  {
   "cell_type": "markdown",
   "id": "7399d17e",
   "metadata": {},
   "source": [
    "The above function fetches the few rows from the data set"
   ]
  },
  {
   "cell_type": "code",
   "execution_count": 170,
   "id": "565748e8",
   "metadata": {},
   "outputs": [
    {
     "name": "stdout",
     "output_type": "stream",
     "text": [
      "Index(['age', 'sex', 'cp', 'trestbps', 'chol', 'fbs', 'restecg', 'thalach',\n",
      "       'exang', 'oldpeak', 'slope', 'ca', 'thal', 'target'],\n",
      "      dtype='object')\n"
     ]
    }
   ],
   "source": [
    "# read the column names of the dataset \n",
    "print(df.columns)"
   ]
  },
  {
   "cell_type": "markdown",
   "id": "dc680d68",
   "metadata": {},
   "source": [
    "THe above function fetches the column names which are renamed"
   ]
  },
  {
   "cell_type": "code",
   "execution_count": 171,
   "id": "f2dc194d",
   "metadata": {},
   "outputs": [
    {
     "name": "stdout",
     "output_type": "stream",
     "text": [
      "              age         sex          cp    trestbps        chol         fbs  \\\n",
      "count  302.000000  302.000000  302.000000  302.000000  302.000000  302.000000   \n",
      "mean    54.410596    0.678808    3.165563  131.645695  246.738411    0.145695   \n",
      "std      9.040163    0.467709    0.953612   17.612202   51.856829    0.353386   \n",
      "min     29.000000    0.000000    1.000000   94.000000  126.000000    0.000000   \n",
      "25%     48.000000    0.000000    3.000000  120.000000  211.000000    0.000000   \n",
      "50%     55.500000    1.000000    3.000000  130.000000  241.500000    0.000000   \n",
      "75%     61.000000    1.000000    4.000000  140.000000  275.000000    0.000000   \n",
      "max     77.000000    1.000000    4.000000  200.000000  564.000000    1.000000   \n",
      "\n",
      "          restecg     thalach       exang     oldpeak       slope      target  \n",
      "count  302.000000  302.000000  302.000000  302.000000  302.000000  302.000000  \n",
      "mean     0.986755  149.605960    0.327815    1.035430    1.596026    0.940397  \n",
      "std      0.994916   22.912959    0.470196    1.160723    0.611939    1.229384  \n",
      "min      0.000000   71.000000    0.000000    0.000000    1.000000    0.000000  \n",
      "25%      0.000000  133.250000    0.000000    0.000000    1.000000    0.000000  \n",
      "50%      0.500000  153.000000    0.000000    0.800000    2.000000    0.000000  \n",
      "75%      2.000000  166.000000    1.000000    1.600000    2.000000    2.000000  \n",
      "max      2.000000  202.000000    1.000000    6.200000    3.000000    4.000000  \n"
     ]
    }
   ],
   "source": [
    "# read the first few rows of the dataset \n",
    "print(df.describe())"
   ]
  },
  {
   "cell_type": "markdown",
   "id": "3a3fbe15",
   "metadata": {},
   "source": [
    "The above code generated a descriptive statistics of the numerical columns in your DataFrame. These statistics include count, mean, standard deviation, minimum, 25th percentile (Q1), median (50th percentile or Q2), 75th percentile (Q3), and maximum."
   ]
  },
  {
   "cell_type": "code",
   "execution_count": 172,
   "id": "94f64298",
   "metadata": {},
   "outputs": [
    {
     "name": "stdout",
     "output_type": "stream",
     "text": [
      "<class 'pandas.core.frame.DataFrame'>\n",
      "RangeIndex: 302 entries, 0 to 301\n",
      "Data columns (total 14 columns):\n",
      " #   Column    Non-Null Count  Dtype  \n",
      "---  ------    --------------  -----  \n",
      " 0   age       302 non-null    float64\n",
      " 1   sex       302 non-null    float64\n",
      " 2   cp        302 non-null    float64\n",
      " 3   trestbps  302 non-null    float64\n",
      " 4   chol      302 non-null    float64\n",
      " 5   fbs       302 non-null    float64\n",
      " 6   restecg   302 non-null    float64\n",
      " 7   thalach   302 non-null    float64\n",
      " 8   exang     302 non-null    float64\n",
      " 9   oldpeak   302 non-null    float64\n",
      " 10  slope     302 non-null    float64\n",
      " 11  ca        302 non-null    object \n",
      " 12  thal      302 non-null    object \n",
      " 13  target    302 non-null    int64  \n",
      "dtypes: float64(11), int64(1), object(2)\n",
      "memory usage: 33.2+ KB\n",
      "None\n"
     ]
    }
   ],
   "source": [
    "print(df.info())"
   ]
  },
  {
   "cell_type": "markdown",
   "id": "bdb76db1",
   "metadata": {},
   "source": [
    "The above function provides a concise summary of a DataFrame, including the number of non-null values and memory usage. It is useful for quickly understanding the structure and composition of your dataset"
   ]
  },
  {
   "cell_type": "markdown",
   "id": "3eb96034",
   "metadata": {},
   "source": [
    "## Clean data"
   ]
  },
  {
   "cell_type": "markdown",
   "id": "bccc94dd",
   "metadata": {},
   "source": [
    "Once the data is explored, we need to clean up the column names, whether it has some leading white spaces or not"
   ]
  },
  {
   "cell_type": "code",
   "execution_count": 173,
   "id": "700fb3aa",
   "metadata": {},
   "outputs": [
    {
     "data": {
      "text/plain": [
       "Index(['age', 'sex', 'cp', 'trestbps', 'chol', 'fbs', 'restecg', 'thalach',\n",
       "       'exang', 'oldpeak', 'slope', 'ca', 'thal', 'target'],\n",
       "      dtype='object')"
      ]
     },
     "execution_count": 173,
     "metadata": {},
     "output_type": "execute_result"
    }
   ],
   "source": [
    "# based on findings from data exploration, we need to clean up colum names, as there are some leading whitespace characters\n",
    "df.columns = [s.strip() for s in df.columns] \n",
    "df.columns"
   ]
  },
  {
   "cell_type": "markdown",
   "id": "8d5445e4",
   "metadata": {},
   "source": [
    "The above code will remove any leading or trailing whitespace characters from the column names and print the cleaned column names of your DataFrame."
   ]
  },
  {
   "cell_type": "markdown",
   "id": "d1b9caf6",
   "metadata": {},
   "source": [
    "## Handle Missing Values"
   ]
  },
  {
   "cell_type": "markdown",
   "id": "862273c1",
   "metadata": {},
   "source": [
    "Handling the missing values"
   ]
  },
  {
   "cell_type": "markdown",
   "id": "24bb0096",
   "metadata": {},
   "source": []
  },
  {
   "cell_type": "code",
   "execution_count": 174,
   "id": "63c974d9",
   "metadata": {},
   "outputs": [],
   "source": [
    "df[df == '?'] = np.nan\n",
    "\n",
    "# Calculate mean for numeric columns and fill NaN values with mean\n",
    "numeric_cols_mean = df.select_dtypes(include='number').mean()\n",
    "df.fillna(numeric_cols_mean, inplace=True)\n",
    "\n",
    "# For categorical columns, fill NaN values with a specific value (for example, 'unknown')\n",
    "categorical_cols = df.select_dtypes(include='object').columns\n",
    "df[categorical_cols] = df[categorical_cols].fillna('unknown')"
   ]
  },
  {
   "cell_type": "markdown",
   "id": "501284a4",
   "metadata": {},
   "source": [
    "The code you provided aims to handle missing values in the DataFrame df by replacing \"?\" with NaN values, filling NaN values in numeric columns with the mean, and filling NaN values in categorical columns with the string 'unknown'."
   ]
  },
  {
   "cell_type": "markdown",
   "id": "53a19f73",
   "metadata": {},
   "source": [
    "## Save the preprocessed Data to CSV file"
   ]
  },
  {
   "cell_type": "markdown",
   "id": "081a3bec",
   "metadata": {},
   "source": [
    "Storing the preprocessed data to the csv file "
   ]
  },
  {
   "cell_type": "code",
   "execution_count": 175,
   "id": "0fc020ce",
   "metadata": {},
   "outputs": [],
   "source": [
    "# Save Preprocessed Data to CSV file\n",
    "preprocessed_df = df.copy()\n",
    "preprocessed_df.to_csv('preprocessed_heart.csv', index=False)"
   ]
  },
  {
   "cell_type": "code",
   "execution_count": 176,
   "id": "1301f320",
   "metadata": {},
   "outputs": [
    {
     "name": "stdout",
     "output_type": "stream",
     "text": [
      "\n",
      "Preprocessed data saved successfully.\n"
     ]
    }
   ],
   "source": [
    "print(\"\\nPreprocessed data saved successfully.\")"
   ]
  },
  {
   "cell_type": "markdown",
   "id": "550f8d1e",
   "metadata": {},
   "source": [
    "The above code you provided will save the preprocessed DataFrame preprocessed_df to a CSV file named 'preprocessed_heart.csv' without including the index column. This is achieved using the to_csv() function with the parameter index=False.\n",
    "\n",
    "the preprocessed data will be saved to a file called 'preprocessed_heart.csv' in the current working directory."
   ]
  },
  {
   "cell_type": "code",
   "execution_count": null,
   "id": "ca903012",
   "metadata": {},
   "outputs": [],
   "source": []
  }
 ],
 "metadata": {
  "kernelspec": {
   "display_name": "Python 3 (ipykernel)",
   "language": "python",
   "name": "python3"
  },
  "language_info": {
   "codemirror_mode": {
    "name": "ipython",
    "version": 3
   },
   "file_extension": ".py",
   "mimetype": "text/x-python",
   "name": "python",
   "nbconvert_exporter": "python",
   "pygments_lexer": "ipython3",
   "version": "3.11.4"
  }
 },
 "nbformat": 4,
 "nbformat_minor": 5
}
